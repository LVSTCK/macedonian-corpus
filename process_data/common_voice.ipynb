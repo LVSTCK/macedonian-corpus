{
 "cells": [
  {
   "cell_type": "code",
   "execution_count": 1,
   "metadata": {},
   "outputs": [],
   "source": [
    "import pandas as pd \n",
    "import numpy as np "
   ]
  },
  {
   "cell_type": "code",
   "execution_count": 2,
   "metadata": {},
   "outputs": [],
   "source": [
    "# get all .tsv files and get the 'sentence' column \n",
    "# and concatenate them into a single dataframe \n",
    "\n",
    "import glob \n",
    "files = glob.glob('../common_voice/*/*/*/*.tsv') "
   ]
  },
  {
   "cell_type": "code",
   "execution_count": 3,
   "metadata": {},
   "outputs": [
    {
     "name": "stdout",
     "output_type": "stream",
     "text": [
      "'sentence' column not found in ../common_voice/cv-corpus-18.0-2024-06-14-mk/cv-corpus-18.0-2024-06-14/mk/clip_durations.tsv\n",
      "'sentence' column not found in ../common_voice/cv-corpus-19.0-delta-2024-09-13-mk/cv-corpus-19.0-delta-2024-09-13/mk/clip_durations.tsv\n",
      "'sentence' column not found in ../common_voice/cv-corpus-15.0-2023-09-08-mk/cv-corpus-15.0-2023-09-08/mk/clip_durations.tsv\n",
      "'sentence' column not found in ../common_voice/cv-corpus-19.0-2024-09-13-mk/cv-corpus-19.0-2024-09-13/mk/clip_durations.tsv\n",
      "'sentence' column not found in ../common_voice/cv-corpus-17.0-delta-2024-03-15-mk/cv-corpus-17.0-delta-2024-03-15/mk/clip_durations.tsv\n",
      "'sentence' column not found in ../common_voice/cv-corpus-16.1-2023-12-06-mk/cv-corpus-16.1-2023-12-06/mk/clip_durations.tsv\n",
      "'sentence' column not found in ../common_voice/cv-corpus-18.0-delta-2024-06-14-mk/cv-corpus-18.0-delta-2024-06-14/mk/clip_durations.tsv\n",
      "'sentence' column not found in ../common_voice/cv-corpus-20.0-2024-12-06-mk/cv-corpus-20.0-2024-12-06/mk/clip_durations.tsv\n",
      "'sentence' column not found in ../common_voice/cv-corpus-20.0-delta-2024-12-06-mk/cv-corpus-20.0-delta-2024-12-06/mk/clip_durations.tsv\n",
      "'sentence' column not found in ../common_voice/cv-corpus-17.0-2024-03-15-mk/cv-corpus-17.0-2024-03-15/mk/clip_durations.tsv\n",
      "Corpus created with 194302 sentences and saved to macedonian_corpus.txt.\n"
     ]
    }
   ],
   "source": [
    "import os\n",
    "corpus = []\n",
    "for file_path in files:\n",
    "    if os.path.exists(file_path):\n",
    "        try:\n",
    "            # Read the file as a TSV\n",
    "            df = pd.read_csv(file_path, sep='\\t')\n",
    "            \n",
    "            # Check if the 'sentence' column exists\n",
    "            if 'sentence' in df.columns:\n",
    "                # Append the sentences to the corpus\n",
    "                corpus.extend(df['sentence'].dropna().tolist())\n",
    "            else:\n",
    "                print(f\"'sentence' column not found in {file_path}\")\n",
    "        except Exception as e:\n",
    "            print(f\"Error reading {file_path}: {e}\")\n",
    "    else:\n",
    "        print(f\"File not found: {file_path}\")\n",
    "\n",
    "# Save the corpus to a text file\n",
    "output_file = 'macedonian_corpus.txt'\n",
    "with open(output_file, 'w', encoding='utf-8') as f:\n",
    "    for sentence in corpus:\n",
    "        f.write(sentence + '\\n')\n",
    "\n",
    "print(f\"Corpus created with {len(corpus)} sentences and saved to {output_file}.\")"
   ]
  },
  {
   "cell_type": "code",
   "execution_count": 4,
   "metadata": {},
   "outputs": [
    {
     "name": "stdout",
     "output_type": "stream",
     "text": [
      "Corpus saved to macedonian_corpus.txt\n"
     ]
    }
   ],
   "source": [
    "# Save the corpus to a text file\n",
    "output_file_txt = 'macedonian_corpus.txt'\n",
    "with open(output_file_txt, 'w', encoding='utf-8') as f:\n",
    "    for sentence in corpus:\n",
    "        f.write(sentence + '\\n')\n",
    "\n",
    "print(f\"Corpus saved to {output_file_txt}\")"
   ]
  }
 ],
 "metadata": {
  "kernelspec": {
   "display_name": "ocr",
   "language": "python",
   "name": "python3"
  },
  "language_info": {
   "codemirror_mode": {
    "name": "ipython",
    "version": 3
   },
   "file_extension": ".py",
   "mimetype": "text/x-python",
   "name": "python",
   "nbconvert_exporter": "python",
   "pygments_lexer": "ipython3",
   "version": "3.12.5"
  }
 },
 "nbformat": 4,
 "nbformat_minor": 2
}
